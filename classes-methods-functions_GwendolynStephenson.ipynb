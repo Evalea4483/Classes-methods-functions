{
 "cells": [
  {
   "cell_type": "code",
   "execution_count": 2,
   "metadata": {},
   "outputs": [],
   "source": [
    "#Classes, functions, and Methods\n",
    "\n",
    "import warnings\n",
    "import sympy\n",
    "import numpy\n",
    "import matplotlib\n",
    "import time\n",
    "import math\n",
    "from matplotlib import pyplot\n",
    "\n",
    "warnings.filterwarnings(\"ignore\")\n",
    "\n",
    "#Baby class\n",
    "class baby():\n",
    "  #methods = feed(), play()\n",
    "  #attributes = age, mood, hunger\n",
    "  def __init__(self,age=0, mood=\"crying\", hunger=\"hungry\"): #---> Default values for baby parameter\n",
    "    self.age = age\n",
    "    self.mood = mood\n",
    "    self.hunger = hunger\n",
    "  def feed(self): # object.feed() makes object.hunger = full\n",
    "    self.hunger = \"full\"\n",
    "  def play(self): # object.play() makes object.mood = happy\n",
    "    self.mood = \"happy\"\n",
    "\n",
    "#second lab class \n",
    "class second_lab():\n",
    "  # Methods = check_in(), lab_summary()\n",
    "  # attributes = topic, attendance_code, attendees, TA\n",
    "  def __init__(self,TA=\"NO TA SET\"): # for attribute TA, it is set to \"NO TA SET\"\n",
    "    self.topic = \"Introduction to Objects and Debugging\"\n",
    "    self.attendance_code = 1234\n",
    "    self.attendees = []\n",
    "    self.TA = TA\n",
    "  def check_in(self,name): # check_in() = appends \"name\" to attendees list \n",
    "    self.attendees.append(name)\n",
    "  def lab_summary(self): # lab_summary() = prints a string summarizing the topic, who the TA is, who's in attendance, as well as the attendance code\n",
    "    print(\"Today in lab, we had an \" + self.topic + \" with our TA, \" + self.TA +\". We had some great people in attendance, \\n such as: \" + \", \".join(self.attendees)+\". The attendance code is \" + str(self.attendance_code)+\".\")\n",
    "\n",
    "def calculate_area(length, width): \n",
    "  #A function for calculating area of a rectangle. you could calculate the area of a square if you use the same number for the paraneters\n",
    "  #(i.e. calculate_area(4, 4) = 2**2 or the square.)\n",
    "  area = length * width\n",
    "  return area\n",
    "\n",
    "\n",
    "# Plant class \n",
    "class plant():\n",
    "  # Methods--> water_plant(), set_light(), check_health(), wait()\n",
    "  # Attributes --> planted, day_of_last_growth, day, water, light, health, stage, perfect_light, perfect_water\n",
    "  def __init__(self):\n",
    "    self.planted = 0\n",
    "    self.day_of_last_growth = 0\n",
    "    self.day = 0\n",
    "    self.water = 0\n",
    "    self.light = 0\n",
    "    self.health = 10\n",
    "    self.stage = 0\n",
    "    self.perfect_light = numpy.random.choice([1,2,3,4,5,6,7,8,9,10])\n",
    "    self.perfect_water = numpy.random.choice([1,2,3,4,5,6,7,8,9,10])\n",
    "  def water_plant(self,amount): #water_plant() = put in an integer greater than 0, it'll return \"you watered your plant\"\n",
    "    if amount > 0:\n",
    "      print(\"You watered your plant.\")\n",
    "      self.water += round(amount)\n",
    "    elif amount < 0:\n",
    "      raise ValueError(\"You can't remove water from your plant! You will have to wait a bit for it to dry out.\")\n",
    "    else:\n",
    "      print(\"You decide to not water your plant.\")\n",
    "  def set_light(self,level): # set_light() --> if light level is between 1 - 10, then it will return a string saying \"you set the light to level {int}\"\n",
    "    if level <0:\n",
    "      raise ValueError(\"You can't set the light level to negative values.\")\n",
    "    elif level > 10:\n",
    "      raise ValueError(\"Your light is not that strong\")\n",
    "    else:\n",
    "      self.light = round(level)\n",
    "      print(\"You set the light to level \" + str(self.light))\n",
    "\n",
    "  def check_health(self): # check_health() --> Returns a series of strings that update you on the plants health, wetness of soil, and light. \n",
    "    print(\"Your plant's health is a \" + str(self.health)+ \"/\" + str(10+(5*self.stage))+\".\")\n",
    "    print(\"If you had to rate the wetness of the soil, it would be a \" + str(self.water)+ \"/10.\")\n",
    "    print(\"Your light is turned up to \" + str(self.light)+ \".\")\n",
    "    if self.stage == 10: # if stage is == 10, then it prints a string stating that the plant is fully grown\n",
    "      print(\"Your plant is full grown.\")\n",
    "\n",
    "  def wait(self,num_days): # wait() --> type in an integer, and it'll then allow the plant to \"wait\" for whatever (int) days was put in\n",
    "    \n",
    "    # For loop - adds to the day attribute based off range(num_days) and prints a string - \"Day #\"\n",
    "    #for each iteration of the for loop - or \"days\" - it runs through a series of if/elif/else statements pertaining to :\n",
    "    #light level, water level\n",
    "    for i in range(num_days): \n",
    "      self.day += 1\n",
    "      print('Day ' + str(self.day))\n",
    "      if self.perfect_light > self.light:\n",
    "        print(\"Your plant needs more light\")\n",
    "        self.health += -1*abs(self.perfect_light- self.light)/10\n",
    "      elif self.perfect_light < self.light:\n",
    "        print(\"Your plant needs less light\")\n",
    "        self.health += -1*abs(self.perfect_light- self.light)/10\n",
    "      else:\n",
    "        print(\"Your plant looks happy with the light it has.\")\n",
    "\n",
    "      if self.perfect_water > self.water:\n",
    "        print(\"Your plant needs more water\")\n",
    "        self.health += -1*abs(self.perfect_water- self.water)/10\n",
    "      elif self.perfect_water < self.water:\n",
    "        print(\"Your plant needs less water\")\n",
    "        self.health += -1*abs(self.perfect_water- self.water)/10\n",
    "      else:\n",
    "        print(\"Your plant looks happy with the water it had.\")\n",
    "\n",
    "      # if perfect_light is equal to light and perfect_water is equal to water, then the health of the plant is adjusted. \n",
    "      # if the first if statement is true, then if (day - day_of_last_growth) >= 5 and stage < 10, it will \n",
    "      # add to stage +1, health +5, day_of_last_growth == day, perfect_light and perfect_water's value is randomly chosen based off the lists\n",
    "      # and nested in that if statement says that if stage == 10, it will print \"Congrats! Your plant is full grown!\"\n",
    "      if self.perfect_light == self.light and self.perfect_water == self.water:\n",
    "        self.health = (self.health + 10+(5*self.stage))/2\n",
    "        if self.day- self.day_of_last_growth >= 5 and self.stage < 10:\n",
    "          print(\"Your plant grew a bit! Its preferances may have changed.\")\n",
    "          self.stage += 1\n",
    "          self.health += 5\n",
    "          self.day_of_last_growth = self.day\n",
    "          self.perfect_light = numpy.random.choice([1,2,3,4,5,6,7,8,9,10])\n",
    "          self.perfect_water = numpy.random.choice([1,2,3,4,5,6,7,8,9,10])\n",
    "          if self.stage == 10:\n",
    "            print(\"Congrats! Your plant is full grown.\")\n",
    "\n",
    "      # water + -(light)\n",
    "      self.water += -1*self.light\n",
    "\n",
    "      # if water is less than 0, then it will set water's value to 0 \n",
    "      if self.water < 0:\n",
    "        self.water = 0\n",
    "      \n",
    "      # if health is less than 0, then it will print a string stating that the plant has died as well as resetting \n",
    "      # the initial values of the plants attributes so you could start a new plant. \n",
    "      if self.health <= 0:\n",
    "        print(\"Your plant died! You decide to plant a new seed. Treat this one better!\")\n",
    "        self.planted = 0\n",
    "        self.day_of_last_growth = 0\n",
    "        self.day = 0\n",
    "        self.water = 0\n",
    "        self.light = 0\n",
    "        self.health = 10\n",
    "        self.stage = 0\n",
    "        self.perfect_light = numpy.random.choice([1,2,3,4,5,6,7,8,9,10])\n",
    "        self.perfect_water = numpy.random.choice([1,2,3,4,5,6,7,8,9,10])\n",
    "\n",
    "#function to find the roots of a quadratic equation\n",
    "def dynamic_find_roots(a,b,c):\n",
    "  if b**2-4*a*c == 0:\n",
    "    return -b/(2*a)\n",
    "  elif b**2 - 4*a*c <0:\n",
    "    return (-b+1j*(4*a*c-b**2)**0.5)/(2*a),(-b-1j*(4*a*c-b**2)**0.5)/(2*a)\n",
    "  elif b**2 - 4*a*c >0:\n",
    "    return (-b+(b**2-4*a*c)**0.5)/(2*a),(-b-(b**2-4*a*c)**0.5)/(2*a)\n"
   ]
  },
  {
   "cell_type": "markdown",
   "metadata": {},
   "source": [
    "Playing with the Baby class --->"
   ]
  },
  {
   "cell_type": "code",
   "execution_count": 20,
   "metadata": {},
   "outputs": [
    {
     "name": "stdout",
     "output_type": "stream",
     "text": [
      "0\n",
      "crying\n",
      "hungry\n"
     ]
    }
   ],
   "source": [
    "#printing the initial state of the child object\n",
    "\n",
    "child = baby()\n",
    "print(child.age)\n",
    "print(child.mood)\n",
    "print(child.hunger)"
   ]
  },
  {
   "cell_type": "code",
   "execution_count": 21,
   "metadata": {},
   "outputs": [
    {
     "name": "stdout",
     "output_type": "stream",
     "text": [
      "2\n",
      "happy\n",
      "full\n"
     ]
    }
   ],
   "source": [
    "#using the feed() and play() methods to change its hunger and mood attributes, as well as changing the age attribute to 2\n",
    "#I then print the results.\n",
    "\n",
    "child.feed()\n",
    "child.play()\n",
    "child.age = 2\n",
    "\n",
    "print(child.age)\n",
    "print(child.mood)\n",
    "print(child.hunger)"
   ]
  },
  {
   "cell_type": "code",
   "execution_count": 10,
   "metadata": {},
   "outputs": [
    {
     "name": "stdout",
     "output_type": "stream",
     "text": [
      "The child is 2 years old, after eating they were full.\n",
      "They then went to go play on the playground; at the end of the day, they were happy.\n"
     ]
    }
   ],
   "source": [
    "#I then make variables for the attributes of the child object, then printed a string, whilst utilizing these variables.\n",
    "\n",
    "mood = child.mood\n",
    "hunger = child.hunger\n",
    "age = child.age\n",
    "\n",
    "print(f\"The child is {age} years old, after eating they were {hunger}.\")\n",
    "print(f\"They then went to go play on the playground; at the end of the day, they were {mood}.\")"
   ]
  },
  {
   "cell_type": "markdown",
   "metadata": {},
   "source": [
    "Playing with the second_lab class --->"
   ]
  },
  {
   "cell_type": "code",
   "execution_count": 4,
   "metadata": {},
   "outputs": [
    {
     "name": "stdout",
     "output_type": "stream",
     "text": [
      "Today in lab, we had an Introduction to Objects and Debugging with our TA, Joshua. We had some great people in attendance, \n",
      " such as: Gwen, Lauren, Brianna. The attendance code is 5513.\n"
     ]
    }
   ],
   "source": [
    "#Created a lab object, set the attributes, appended names to the attendees list with the check_in() method, \n",
    "#and then used the lab_summary() method to print the string containing information on the \"lab\"\n",
    "\n",
    "lab = second_lab()\n",
    "\n",
    "lab.TA = \"Joshua\"\n",
    "\n",
    "\n",
    "lab.attendance_code = 5513\n",
    "\n",
    "lab.check_in(\"Gwen\")\n",
    "lab.check_in(\"Lauren\")\n",
    "lab.check_in(\"Brianna\")\n",
    "\n",
    "lab.lab_summary()"
   ]
  },
  {
   "cell_type": "markdown",
   "metadata": {},
   "source": [
    "Playing with the plant class --->"
   ]
  },
  {
   "cell_type": "code",
   "execution_count": 24,
   "metadata": {},
   "outputs": [
    {
     "name": "stdout",
     "output_type": "stream",
     "text": [
      "You watered your plant.\n",
      "You set the light to level 8\n",
      "Your plant's health is a 10/10.\n",
      "If you had to rate the wetness of the soil, it would be a 7/10.\n",
      "Your light is turned up to 8.\n"
     ]
    }
   ],
   "source": [
    "#made a plant object, i then watered the plant at value 7, and set the light to 8, I then checked the health of my plant\n",
    "\n",
    "\n",
    "my_plant = plant()\n",
    "\n",
    "my_plant.water_plant(7)\n",
    "my_plant.set_light(8)\n",
    "\n",
    "my_plant.check_health()"
   ]
  },
  {
   "cell_type": "code",
   "execution_count": 26,
   "metadata": {},
   "outputs": [
    {
     "name": "stdout",
     "output_type": "stream",
     "text": [
      "Day 5\n",
      "Your plant needs less light\n",
      "Your plant needs more water\n",
      "Day 6\n",
      "Your plant needs less light\n",
      "Your plant needs more water\n",
      "Day 7\n",
      "Your plant needs less light\n",
      "Your plant needs more water\n",
      "Day 8\n",
      "Your plant needs less light\n",
      "Your plant needs more water\n",
      "Your plant's health is a 1.7000000000000015/10.\n",
      "If you had to rate the wetness of the soil, it would be a 0/10.\n",
      "Your light is turned up to 8.\n"
     ]
    }
   ],
   "source": [
    "#I waited 4 days, then checked the health of my plant\n",
    "\n",
    "my_plant.wait(4)\n",
    "my_plant.check_health()"
   ]
  },
  {
   "cell_type": "code",
   "execution_count": 27,
   "metadata": {},
   "outputs": [
    {
     "name": "stdout",
     "output_type": "stream",
     "text": [
      "You watered your plant.\n",
      "You set the light to level 4\n",
      "Your plant's health is a 1.7000000000000015/10.\n",
      "If you had to rate the wetness of the soil, it would be a 8/10.\n",
      "Your light is turned up to 4.\n"
     ]
    }
   ],
   "source": [
    "#after waiting 4 days, I watered my plant for value 8 then set my light to 4, then checked the health of my plant\n",
    "\n",
    "my_plant.water_plant(8)\n",
    "my_plant.set_light(4)\n",
    "\n",
    "my_plant.check_health()"
   ]
  },
  {
   "cell_type": "code",
   "execution_count": 28,
   "metadata": {},
   "outputs": [
    {
     "name": "stdout",
     "output_type": "stream",
     "text": [
      "Day 9\n",
      "Your plant needs less light\n",
      "Your plant needs less water\n",
      "Day 10\n",
      "Your plant needs less light\n",
      "Your plant needs more water\n",
      "Day 11\n",
      "Your plant needs less light\n",
      "Your plant needs more water\n"
     ]
    }
   ],
   "source": [
    "#waited 3 days\n",
    "\n",
    "my_plant.wait(3)"
   ]
  },
  {
   "cell_type": "code",
   "execution_count": 29,
   "metadata": {},
   "outputs": [
    {
     "name": "stdout",
     "output_type": "stream",
     "text": [
      "Your plant's health is a 0.40000000000000135/10.\n",
      "If you had to rate the wetness of the soil, it would be a 0/10.\n",
      "Your light is turned up to 4.\n"
     ]
    }
   ],
   "source": [
    "#checked its health\n",
    "\n",
    "my_plant.check_health()"
   ]
  },
  {
   "cell_type": "code",
   "execution_count": 30,
   "metadata": {},
   "outputs": [
    {
     "name": "stdout",
     "output_type": "stream",
     "text": [
      "Day 12\n",
      "Your plant needs less light\n",
      "Your plant needs more water\n",
      "Your plant died! You decide to plant a new seed. Treat this one better!\n",
      "Day 1\n",
      "Your plant needs more light\n",
      "Your plant needs more water\n",
      "Day 2\n",
      "Your plant needs more light\n",
      "Your plant needs more water\n",
      "Day 3\n",
      "Your plant needs more light\n",
      "Your plant needs more water\n",
      "Day 4\n",
      "Your plant needs more light\n",
      "Your plant needs more water\n",
      "Day 5\n",
      "Your plant needs more light\n",
      "Your plant needs more water\n",
      "Day 6\n",
      "Your plant needs more light\n",
      "Your plant needs more water\n",
      "Day 7\n",
      "Your plant needs more light\n",
      "Your plant needs more water\n",
      "Day 8\n",
      "Your plant needs more light\n",
      "Your plant needs more water\n",
      "Day 9\n",
      "Your plant needs more light\n",
      "Your plant needs more water\n",
      "Your plant's health is a 5.5/10.\n",
      "If you had to rate the wetness of the soil, it would be a 0/10.\n",
      "Your light is turned up to 0.\n"
     ]
    }
   ],
   "source": [
    "#Waited 10 days and then checked the health of the plant.\n",
    "\n",
    "my_plant.wait(10)\n",
    "my_plant.check_health()"
   ]
  },
  {
   "cell_type": "markdown",
   "metadata": {},
   "source": [
    "Playing with the dynamic_roots function"
   ]
  },
  {
   "cell_type": "code",
   "execution_count": 3,
   "metadata": {},
   "outputs": [
    {
     "data": {
      "text/plain": [
       "(3.0, 2.0)"
      ]
     },
     "execution_count": 3,
     "metadata": {},
     "output_type": "execute_result"
    }
   ],
   "source": [
    "#type in 3 numbers into the function, and it'll give you the roots of the quadratic.\n",
    "#this goes for all the other examples\n",
    "\n",
    "dynamic_find_roots(1, -5, 6)"
   ]
  },
  {
   "cell_type": "code",
   "execution_count": 4,
   "metadata": {},
   "outputs": [
    {
     "data": {
      "text/plain": [
       "((-0.3+1.977371993328519j), (-0.3-1.977371993328519j))"
      ]
     },
     "execution_count": 4,
     "metadata": {},
     "output_type": "execute_result"
    }
   ],
   "source": [
    "dynamic_find_roots(5, 3, 20)"
   ]
  },
  {
   "cell_type": "code",
   "execution_count": 5,
   "metadata": {},
   "outputs": [
    {
     "data": {
      "text/plain": [
       "((-2.5+1.9364916731037085j), (-2.5-1.9364916731037085j))"
      ]
     },
     "execution_count": 5,
     "metadata": {},
     "output_type": "execute_result"
    }
   ],
   "source": [
    "dynamic_find_roots(2, 10, 20)"
   ]
  }
 ],
 "metadata": {
  "kernelspec": {
   "display_name": "Python 3",
   "language": "python",
   "name": "python3"
  },
  "language_info": {
   "codemirror_mode": {
    "name": "ipython",
    "version": 3
   },
   "file_extension": ".py",
   "mimetype": "text/x-python",
   "name": "python",
   "nbconvert_exporter": "python",
   "pygments_lexer": "ipython3",
   "version": "3.11.5"
  }
 },
 "nbformat": 4,
 "nbformat_minor": 2
}
